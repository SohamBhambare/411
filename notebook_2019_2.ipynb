{
 "cells": [
  {
   "cell_type": "code",
   "execution_count": 1,
   "id": "427fabc1-05f0-41d9-ba3a-b707ad7933f2",
   "metadata": {},
   "outputs": [],
   "source": [
    "import pandas as pd\n",
    "from sklearn.model_selection import StratifiedKFold, cross_val_score\n",
    "from sklearn.preprocessing import OneHotEncoder\n",
    "from sklearn.linear_model import LogisticRegression\n",
    "from sklearn.metrics import classification_report, roc_auc_score, precision_score, recall_score"
   ]
  },
  {
   "cell_type": "code",
   "execution_count": null,
   "id": "957c144d-f9a5-4605-86c9-90323aa869f0",
   "metadata": {},
   "outputs": [],
   "source": [
    "# Load and combine data\n",
    "df_2019 = pd.read_csv('/kaggle/input/flight-delay-prediction/Jan_2019_ontime.csv')\n",
    "df_2020 = pd.read_csv('/kaggle/input/flight-delay-prediction/Jan_2020_ontime.csv')\n",
    "df_2019['year'], df_2020['year'] = 2019, 2020\n",
    "data = pd.concat([df_2019, df_2020])"
   ]
  },
  {
   "cell_type": "code",
   "execution_count": null,
   "id": "86269a4f-4982-4a30-a118-b03be2ac536d",
   "metadata": {},
   "outputs": [],
   "source": [
    "# Preprocess data\n",
    "data.dropna(inplace=True)\n",
    "data['DISTANCE_cat'] = pd.qcut(data['DISTANCE'], q=4)\n",
    "data['DEP_DEL15'] = data['DEP_DEL15'].astype('category')\n",
    "data['ARR_DEL15'] = data['ARR_DEL15'].astype('category')\n",
    "categorical_cols = ['DAY_OF_MONTH', 'DAY_OF_WEEK', 'DEP_TIME_BLK', 'CANCELLED', 'DIVERTED', 'DISTANCE_cat']\n",
    "\n",
    "# One-hot encode categorical variables\n",
    "encoder = OneHotEncoder()\n",
    "cat_encoded = encoder.fit_transform(data[categorical_cols])\n",
    "\n",
    "# Split data into train (2019) and test (2020)\n",
    "X_train = cat_encoded[data['year'] == 2019]\n",
    "X_test = cat_encoded[data['year'] == 2020]\n",
    "y_train = data.loc[data['year'] == 2019, 'ARR_DEL15']\n",
    "y_test = data.loc[data['year'] == 2020, 'ARR_DEL15']\n",
    "\n",
    "# Train Logistic Regression model\n",
    "model = LogisticRegression(random_state=42)\n",
    "model.fit(X_train, y_train)\n",
    "\n",
    "# Evaluate model\n",
    "y_pred = model.predict(X_test)\n",
    "y_pred_prob = model.predict_proba(X_test)[:, 1]\n",
    "\n",
    "print(\"Classification Report:\")\n",
    "print(classification_report(y_test, y_pred))\n",
    "print(f\"AUC: {roc_auc_score(y_test, y_pred_prob):.4f}\")\n",
    "\n",
    "# Precision-Recall tradeoff by manipulating threshold\n",
    "threshold = -3\n",
    "y_scores = model.decision_function(X_test)\n",
    "y_pred_threshold = (y_scores > threshold)\n",
    "print(f\"New Precision: {precision_score(y_test, y_pred_threshold):.4f}\")\n",
    "print(f\"New Recall: {recall_score(y_test, y_pred_threshold):.4f}\")"
   ]
  }
 ],
 "metadata": {
  "kernelspec": {
   "display_name": "Python 3 (ipykernel)",
   "language": "python",
   "name": "python3"
  },
  "language_info": {
   "codemirror_mode": {
    "name": "ipython",
    "version": 3
   },
   "file_extension": ".py",
   "mimetype": "text/x-python",
   "name": "python",
   "nbconvert_exporter": "python",
   "pygments_lexer": "ipython3",
   "version": "3.11.7"
  }
 },
 "nbformat": 4,
 "nbformat_minor": 5
}
